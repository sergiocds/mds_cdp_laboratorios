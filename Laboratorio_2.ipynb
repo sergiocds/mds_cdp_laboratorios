{
 "cells": [
  {
   "attachments": {},
   "cell_type": "markdown",
   "metadata": {},
   "source": [
    "# Laboratorio 2\n",
    "---"
   ]
  },
  {
   "attachments": {},
   "cell_type": "markdown",
   "metadata": {},
   "source": [
    "### 1 \n",
    "Haga un programa en Python que reciba de parámetro un número de segundos y que despliegue en pantalla, las horas, minutos y segundos que representan. Por ejemplo:\n",
    "- Si el número de segundos recibidos fuera: 2743 entonces su programa debería desplegar: Horas: 0, Minutos: 45 , Segundos: 43\n",
    "- Si el número de segundos recibidos fuera 5871: Horas: 1, Minutos: 37 , Segundos: 51\n",
    "\n",
    "Recuerde manejar excepciones y errores que considere necesarios."
   ]
  },
  {
   "cell_type": "code",
   "execution_count": 8,
   "metadata": {},
   "outputs": [
    {
     "name": "stdout",
     "output_type": "stream",
     "text": [
      "Horas: 0, Minutos: 1, Segundos: 5\n"
     ]
    }
   ],
   "source": [
    "try:\n",
    "    # Se recibe cantidad de segundos de parte del usuario\n",
    "    segundos=int(input('Ingrese una cantidad de segundos:'))\n",
    "    # Se verifica si el parámetro recibido es un entero mayor a cero\n",
    "    if type(segundos)==int and (segundos>=0):\n",
    "        # Si es un entero positivo, el número de segundos se convierte a horas, minutos y segundos\n",
    "        print(f'Horas: {(segundos//3600)}, Minutos: {((segundos%3600)//60)}, Segundos: {((segundos%3600)%60)}')\n",
    "    else:\n",
    "        # De lo contrario se muestra un mensaje de error\n",
    "        print('Error: Debe ingresar un número entero positivo.')\n",
    "except:\n",
    "    print('Error: Debe ingresar un número entero positivo.')"
   ]
  },
  {
   "attachments": {},
   "cell_type": "markdown",
   "metadata": {},
   "source": [
    "### 2 \n",
    "Haga una función en Python que dado un número entre 1 y 20. Y un carácter cualquiera despliegue cuatro patrones triangulares.\n",
    "Por ejemplo si el usuario ingresara el número 4 y el símbolo * el programa deberá desplegar lo siguiente:"
   ]
  },
  {
   "cell_type": "code",
   "execution_count": 3,
   "metadata": {},
   "outputs": [],
   "source": [
    "# Se define la función\n",
    "def triangulos(base,caracter):\n",
    "    # Se verifica si el parámetro recibido es un número entre 1 y 20\n",
    "    if (base<1) or (base>20):\n",
    "        # Si no se cumple se muestra un mensaje de error\n",
    "        print('Debe ingresar un número entero entre 1 y 20')\n",
    "    else:\n",
    "        # De lo contrario se generán las 4 figuras triangulares con el carácter enviado a la función\n",
    "        for i in range(base):\n",
    "            t1=caracter*(i+1)\n",
    "            e1=' '*(base+4)\n",
    "            t2=caracter*(base-i)\n",
    "            e2=' '*5\n",
    "            print(t1+e1+t2+e2+t2+e1+t1)"
   ]
  },
  {
   "cell_type": "code",
   "execution_count": 5,
   "metadata": {},
   "outputs": [
    {
     "name": "stdout",
     "output_type": "stream",
     "text": [
      "*        ****     ****        *\n",
      "**        ***     ***        **\n",
      "***        **     **        ***\n",
      "****        *     *        ****\n"
     ]
    }
   ],
   "source": [
    "# Prueba de la función\n",
    "triangulos(4,'*')"
   ]
  },
  {
   "attachments": {},
   "cell_type": "markdown",
   "metadata": {},
   "source": [
    "### 3\n",
    "Haga un programa en Python que la fecha de nacimiento de una persona (puede ingresar por separado cada valor, es decir pedir primero día, luego mes y luego año), despliegue la edad de la persona en años, meses y días. Su resultado puede ser aproximado."
   ]
  },
  {
   "cell_type": "code",
   "execution_count": 2,
   "metadata": {},
   "outputs": [
    {
     "name": "stdout",
     "output_type": "stream",
     "text": [
      "Su edad es 32 años, 8 meses y 20 días.\n"
     ]
    }
   ],
   "source": [
    "# Importando libreria para uso de funciones de fecha\n",
    "from datetime import date\n",
    "\n",
    "# Obteniendo del usuario su fecha de nacimiento\n",
    "try:\n",
    "    # Se verifica si el dato ingresado es una fecha\n",
    "    nacimiento=date.fromisoformat(input('Ingrese su fecha de nacimiento en formato AAAA-MM-DD:'))\n",
    "    # Se obtiene la fecha actual\n",
    "    hoy=date.today()\n",
    "    # Se verifica si la fecha de nacimiento es menor a la fecha actual\n",
    "    if (nacimiento<=hoy):\n",
    "        # Se considera el caso en que el cumpleaños de la persona aún no haya pasado de acuerdo a la fecha actual\n",
    "        if ((hoy.month,hoy.day)>=(nacimiento.month,nacimiento.day)):\n",
    "            # Se obtienen años\n",
    "            anios=hoy.year-nacimiento.year\n",
    "            # Se considera el caso en que el día actual sea mayor al de la fecha de nacimiento para ajustar meses y días\n",
    "            if (hoy.day>=nacimiento.day):\n",
    "                meses=hoy.month-nacimiento.month\n",
    "                dias=hoy.day-nacimiento.day\n",
    "            # Se considera el caso en que el día actual sea menor al de la fecha de nacimiento para ajustar meses y días\n",
    "            else:\n",
    "                # Se ajustan meses\n",
    "                meses=hoy.month-nacimiento.month-1\n",
    "                # Se consideran casos de meses de 28, 30 y 31 días\n",
    "                if ((hoy.month-1) in (1,3,5,7,8,10,12)):\n",
    "                    dias=(31-nacimiento.day)+hoy.day\n",
    "                elif ((hoy.month-1) in (4,6,9,11)):\n",
    "                    dias=(30-nacimiento.day)+hoy.day\n",
    "                else:\n",
    "                    dias=(28-nacimiento.day)+hoy.day\n",
    "        # Se considera el caso en que el cumpleaños de la persona ya haya pasado de acuerdo a la fecha actual\n",
    "        else:\n",
    "            # Se obtienen años\n",
    "            anios=hoy.year-nacimiento.year-1\n",
    "            # Se ajustan meses y días considerando que el día actual sea mayor al día de la fecha de nacimiento\n",
    "            if (hoy.day>=nacimiento.day):\n",
    "                meses=12+(hoy.month-nacimiento.month)\n",
    "                dias=hoy.day-nacimiento.day\n",
    "            # Se ajustan meses y  dias considerando que el día actual no sea mayor que el día de la fecha de nacimiento\n",
    "            else:\n",
    "                meses=12+(hoy.month-nacimiento.month)-1\n",
    "                if ((hoy.month-1) in (1,3,5,7,8,10,12)):\n",
    "                    dias=(31-nacimiento.day)+hoy.day\n",
    "                elif ((hoy.month-1) in (4,6,9,11)):\n",
    "                    dias=(30-nacimiento.day)+hoy.day\n",
    "                else:\n",
    "                    dias=(28-nacimiento.day)+hoy.day\n",
    "        # Se imprime resultado\n",
    "        print(f'Su edad es {anios} años, {meses} meses y {dias} días.')\n",
    "    # Mensaje de error en el caso de que la fecha de nacimiento sea mayor a la fecha actual.\n",
    "    else:\n",
    "        print('Error: La fecha ingresada debe ser menor a la fecha actual!')\n",
    "\n",
    "# En caso de que formato falle\n",
    "except:\n",
    "    print('Formato de fecha incorrecto, debe ser AAAA-MM-DD. Intente de nuevo.')"
   ]
  },
  {
   "attachments": {},
   "cell_type": "markdown",
   "metadata": {},
   "source": [
    "### 4\n",
    "Escriba una función en Python que dada una tupla de elementos (números o letras) esta se convierta a un string. Tomar nota del siguiente ejemplo:\n",
    "Si la entrada fuera: (10, 20, 40, 5, 70) La salida debería ser: 102040570"
   ]
  },
  {
   "cell_type": "code",
   "execution_count": 76,
   "metadata": {},
   "outputs": [],
   "source": [
    "# Se define función\n",
    "def tuplatexto(tupla):\n",
    "    # Se inicializa variable de texto en la que se almacenará la tupla modificada\n",
    "    texto=''\n",
    "    # Se retorna el valor de la función concatenando por medio de .join cada elemento x dentro de la tupla por medio de un ciclo for\n",
    "    return texto.join([str(x) for x in tupla])"
   ]
  },
  {
   "cell_type": "code",
   "execution_count": 77,
   "metadata": {},
   "outputs": [
    {
     "data": {
      "text/plain": [
       "'Python-2023'"
      ]
     },
     "execution_count": 77,
     "metadata": {},
     "output_type": "execute_result"
    }
   ],
   "source": [
    "# Prueba de la función\n",
    "tupla=('P','y','t','h','o','n','-',2,0,2,3)\n",
    "tuplatexto(tupla)"
   ]
  },
  {
   "attachments": {},
   "cell_type": "markdown",
   "metadata": {},
   "source": [
    "### 5\n",
    "Cree un programa en Python que dada una lista de tuplas, elimine las tuplas que están vacías. Tomar nota del siguiente ejemplo:\n",
    "- Si la lista fuera: [(), (), (’X’,), (’a’, ’b’), (’a’, ’b’, ’c’), (’d’)]\n",
    "- El resultado deber ́ıa ser: [(’X’), (’a’, ’b’), (’a’, ’b’, ’c’), ’d’]"
   ]
  },
  {
   "cell_type": "code",
   "execution_count": 115,
   "metadata": {},
   "outputs": [
    {
     "name": "stdout",
     "output_type": "stream",
     "text": [
      "[('c',), ('a', 'b'), ('a', 'b', 'c'), 'd']\n"
     ]
    }
   ],
   "source": [
    "# Se crea una tupla de prueba\n",
    "lista=[('c',), (), (), ('a', 'b'), ('a', 'b', 'c'), ('d')]\n",
    "# Se obtiene longitud de la tupla, esto determina el límite superior de un ciclo\n",
    "n=len(lista)-1\n",
    "# Se inicializa variable de índice\n",
    "i=0\n",
    "# Se recorre cada elemento de la tupla para verificar si está vacío, hasta haber recorrido toda la tupla\n",
    "while i<=n:\n",
    "    # Se verifica si el dato 'i' de la tupla está vacío\n",
    "    if (len(lista[i]))==0:\n",
    "        # Si es un elemento de tupla vacío, se elimina y se actualizan valores de tamaño de la tupla y del índice\n",
    "        del lista[i]\n",
    "        n-=1\n",
    "        i-=1\n",
    "    i+=1\n",
    "print(lista)"
   ]
  },
  {
   "attachments": {},
   "cell_type": "markdown",
   "metadata": {},
   "source": [
    "### 6\n",
    "Cree una función en Python que dada una tupla de tuplas con números, produzca una tupla\n",
    "con el promedio de cada tupla individual. Tomar nota del siguiente ejemplo:\n",
    "- Si la tupla de entrada fuera: ((10, 10, 10, 12), (30, 45, 56, 45), (81, 80, 39, 32))\n",
    "- El resultado debería ser: (10.5, 44, 58)"
   ]
  },
  {
   "cell_type": "code",
   "execution_count": 124,
   "metadata": {},
   "outputs": [],
   "source": [
    "# Se crea función\n",
    "def avgtupla(tupla):\n",
    "    # Se calcula suma de los elementos de la tupla x y se divide entre el número de elementos de esa tupla. Los resultados se guardan en una nueva lista.\n",
    "    avgs=[(sum(x)/len(x)) for x in tupla]\n",
    "    # Se devuelve el resultado de la función\n",
    "    return avgs"
   ]
  },
  {
   "cell_type": "code",
   "execution_count": 125,
   "metadata": {},
   "outputs": [
    {
     "data": {
      "text/plain": [
       "[10.5, 44.0, 58.0]"
      ]
     },
     "execution_count": 125,
     "metadata": {},
     "output_type": "execute_result"
    }
   ],
   "source": [
    "# Prueba de la función\n",
    "tupla=((10, 10, 10, 12), (30, 45, 56, 45), (81, 80, 39, 32))\n",
    "avgtupla(tupla)"
   ]
  },
  {
   "attachments": {},
   "cell_type": "markdown",
   "metadata": {},
   "source": [
    "### 7\n",
    "Escribir un programa que gestione las facturas pendientes de cobro de una empresa. Las facturas se almacenarán en un diccionario donde la llave de cada factura será el número de factura (debe utilizar un numero de 4 dígitos) y el valor el coste de la factura. El programa debe preguntar al usuario si quiere añadir una nueva factura, pagar una existente o terminar. Si desea añadir una nueva factura se preguntará por el número de factura y su coste y se añadirá al diccionario, para confirmar que la factura se ingreso correctamente el programa debe desplegar el diccionario completo. Si se desea pagar una factura se preguntará por el número de factura y se eliminará del diccionario. Después de cada operación el programa debe mostrar en pantalla la cantidad cobrada hasta el momento y la cantidad pendiente de cobro. Puede utilizar otras estructuras de datos como apoyo si lo considera necesario."
   ]
  },
  {
   "cell_type": "code",
   "execution_count": 180,
   "metadata": {},
   "outputs": [
    {
     "name": "stdout",
     "output_type": "stream",
     "text": [
      "Control de Facturas\n",
      "---------------------------------------------------------------------------\n",
      "Ingrese el número de la opcion deseada:\n",
      "1. Añadir una nueva factura\n",
      "2. Pagar una factura existente\n",
      "3. Salir\n",
      "\n",
      "\n",
      "Facturas actualizadas:\n",
      "{1234: 50.0}\n",
      "Monto total pendiente de pago 50.0\n",
      "Monto total pagado: Q. 0\n",
      "---------------------------------------------------------------------------\n",
      "Facturas actualizadas:\n",
      "{1234: 50.0, 2345: 40.0}\n",
      "Monto total pendiente de pago 90.0\n",
      "Monto total pagado: Q. 0\n",
      "---------------------------------------------------------------------------\n",
      "Monto total pendiente de pago Q. 50.0\n",
      "Monto total pagado: Q. 40.0\n",
      "---------------------------------------------------------------------------\n",
      "Facturas actualizadas:\n",
      "{1234: 50.0}\n",
      "Facturas pagadas:\n",
      "{2345: 40.0}\n",
      "Monto total pendiente de pago 50.0\n",
      "Monto total pagado: Q. 40.0\n",
      "---------------------------------------------------------------------------\n"
     ]
    }
   ],
   "source": [
    "# Se inicializan diccionarios de facturas pendientes de pago y facturas pagadas\n",
    "facturas={}\n",
    "pagado={}\n",
    "# Se inicializa variable de opción elegida del menú\n",
    "opcion=0\n",
    "# Se imprime encabezado del programa con menú de opciones\n",
    "print('Control de Facturas')\n",
    "print('---------------------------------------------------------------------------')\n",
    "print('Ingrese el número de la opcion deseada:')\n",
    "print('1. Añadir una nueva factura')\n",
    "print('2. Pagar una factura existente')\n",
    "print('3. Salir')\n",
    "print('\\n')\n",
    "# Se ejecuta el programa mientras la opción ingresada no sea '3' (salida)\n",
    "while opcion!=3:\n",
    "    # Se ejecuta el programa si la opción ingresada es un número entero.\n",
    "    try:\n",
    "        # Se recibe el número de opción del menú deseada por el usuario\n",
    "        opcion=int(input('Ingrese la opción deseada:'))\n",
    "        # Si la opción ingresada es 1\n",
    "        if (opcion==1):\n",
    "            # Se verifica que el número de factura ingresado sea del tipo de dato entero\n",
    "            try:\n",
    "                nofact=int(input('Ingrese el número de factura'))\n",
    "                # Se comprueba que el número de factura tenga el formato de 4 digitos correcto\n",
    "                if (len(str(nofact)))==4:\n",
    "                    # Se verifica que el número de factura no exista previamente. De ser así, se devuelve un error.\n",
    "                    if nofact in facturas:\n",
    "                        print('Error 1-3: Número de factura ya existe. Ingrese un número de factura diferente.')\n",
    "                        print('---------------------------------------------------------------------------')\n",
    "                    # En caso contrario se procede a agregar los demás datos de la factura\n",
    "                    else:\n",
    "                        # Se comprueba que el monto de la factura sea del tipo de datos correcto\n",
    "                        try:\n",
    "                            monto=float(input('Ingrese el monto de la factura'))\n",
    "                            # Se verifica que el monto ingresado sea positivo\n",
    "                            if (monto>0):\n",
    "                                # Se agrega la factura al diccionario de facturas pendientes de pago\n",
    "                                facturas[nofact]=monto\n",
    "                                # Se imprimen resultados de la operación y totales de diccionarios de facturas pendientes de pago y facturas pagadas hasta el momento\n",
    "                                print('Facturas actualizadas:')\n",
    "                                print(facturas)\n",
    "                                print(f'Monto total pendiente de pago {sum(facturas.values())}')\n",
    "                                print(f'Monto total pagado: Q. {sum(pagado.values())}')\n",
    "                                print('---------------------------------------------------------------------------')\n",
    "                            # Se devuelve un error si el monto no es positivo\n",
    "                            else:\n",
    "                                print('Error 1-5: Ingrese un monto válido de factura.')\n",
    "                                print('---------------------------------------------------------------------------')\n",
    "                        # Se devuelve un mensaje de error\n",
    "                        except:\n",
    "                            print('Error 1-4: Ingrese un monto válido de factura.')\n",
    "                            print('---------------------------------------------------------------------------')\n",
    "                # De lo contrario se muestra un mensaje de error\n",
    "                else:\n",
    "                    print('Error 1-2: Ingrese un número válido de factura.')\n",
    "                    print('---------------------------------------------------------------------------')\n",
    "            # Se devuelve un mensaje de error por no ser un número de factura válido\n",
    "            except:\n",
    "                print('Error 1-1: Ingrese un número válido de factura.')\n",
    "                print('---------------------------------------------------------------------------')\n",
    "        # Si la opción ingresada es 2\n",
    "        elif (opcion==2):\n",
    "            # Se verifica que el número de factura ingresado sea del tipo de dato entero\n",
    "            try:\n",
    "                nofact=int(input('Ingrese el número de factura:'))\n",
    "                # Se comprueba que el número de factura tenga el formato de 4 digitos correcto\n",
    "                if (len(str(nofact)))==4:\n",
    "                    # Se verifica que el número de factura exista previamente\n",
    "                    if nofact in facturas:\n",
    "                        # Se verifica si confirmación de es de tipo de dato string\n",
    "                        try:\n",
    "                            confirmacion=str(input(f'Desea pagar la fáctura {nofact} con un monto de Q. {facturas[nofact]}? S/N'))\n",
    "                            # Si la confirmación es positiva ('S' o 's')\n",
    "                            if (confirmacion=='S') or (confirmacion=='s'):\n",
    "                                # Factura pagada se agrega a diccionario de facturas pagadas\n",
    "                                pagado[nofact]=facturas[nofact]\n",
    "                                # Factura pagadas se elimina de diccionario de facturas pendientes de pago\n",
    "                                facturas.pop(nofact)\n",
    "                                # Se imprimen resultados de operación y diccionarios hasta el momento\n",
    "                                print(f'Factura número {nofact} por un monto de Q. {pagado[nofact]} pagada.')\n",
    "                                print(f'Monto total pendiente de pago Q. {sum(facturas.values())}')\n",
    "                                print(f'Monto total pagado: Q. {sum(pagado.values())}')\n",
    "                                print('---------------------------------------------------------------------------')\n",
    "                            # Se muestra mensaje de error\n",
    "                            else:\n",
    "                                print('Error 2-5: Factura no pagada.')\n",
    "                                print('---------------------------------------------------------------------------')\n",
    "                        # Se devuelve mensaje de error\n",
    "                        except:\n",
    "                            print('Error 2-4: Respuesta inválida. Intente de nuevo.')\n",
    "                            print('---------------------------------------------------------------------------')\n",
    "                    # De lo contrario, se indica que la factura que se desea pagar no existe\n",
    "                    else:\n",
    "                        print('Error 2-3: Número de factura no existe. Ingrese un número de factura válido.')\n",
    "                        print('---------------------------------------------------------------------------')\n",
    "                # Se devuelve mensaje de error\n",
    "                else:\n",
    "                    print('Error 2-2: Ingrese un número válido de factura.')\n",
    "                    print('---------------------------------------------------------------------------')\n",
    "            # Se devuelve mensaje de error\n",
    "            except:\n",
    "                print('Error 2-1: Ingrese un número válido de factura.')\n",
    "                print('---------------------------------------------------------------------------')\n",
    "        # Si la opción ingresada es 3\n",
    "        elif (opcion==3):\n",
    "            # Se imprimen resultados finales de las operaciones. Diccionario de facturas pendientes de pago. Diccionario de facturas pagadas.\n",
    "            print('Facturas actualizadas:')\n",
    "            print(facturas)\n",
    "            print('Facturas pagadas:')\n",
    "            print(pagado)\n",
    "            print(f'Monto total pendiente de pago {sum(facturas.values())}')\n",
    "            print(f'Monto total pagado: Q. {sum(pagado.values())}')\n",
    "            print('---------------------------------------------------------------------------')\n",
    "        # Si se ingresa una opción no válida en el menú\n",
    "        else:\n",
    "            print('Error 0-2: Debe intresar una opción válida.')\n",
    "            print('---------------------------------------------------------------------------')\n",
    "    # Si se ingresa una opción no válida en el menú\n",
    "    except:\n",
    "        print('Error 0-1: Debe intresar una opción válida.')\n",
    "        print('---------------------------------------------------------------------------')"
   ]
  },
  {
   "attachments": {},
   "cell_type": "markdown",
   "metadata": {},
   "source": [
    "### 8\n",
    "Haga una función en Python, que cree un set con todas las cartas de una baraja de Pocker utilizando el siguiente formato: Tipo-Numero. Utilice las letras T para tréboles, C para corazones, P para picas y E para espadas. Para los números utilice la numeración del 1 al 13. Por ejemplo E13 - sería Rey de Espadas, P01 sería As de Picas, T05 sería cinco de Tréboles.\n",
    "\n",
    "Posteriormente cree una función que dado el conjunto anterior cree dos sets nuevos de cartas, cada conjunto debe tener una cantidad variable de elementos, puede utilizar números aleatorios enteros para definir la longitud de los conjuntos.\n",
    "\n",
    "Adicionalmente, debería calcular la probabilidad de la intersección de ambos conjuntos y demuestre si son eventos independientes con la regla del producto.\n",
    "\n",
    "Para concluir, calcule probabilidad de la unión de ambos conjuntos y demuestre que se cumple la regla de la adición."
   ]
  },
  {
   "cell_type": "code",
   "execution_count": 15,
   "metadata": {},
   "outputs": [],
   "source": [
    "# Se define función que genera barajas\n",
    "def baraja():\n",
    "    # Se crea lista de tipos de carta en la baraja\n",
    "    tipo=['T','C','P','E']\n",
    "    # Se inicializa variable en la que se almacenará conjunto de cartas\n",
    "    barajalt=[]\n",
    "    # Se ejecuta un ciclo para generar las 52 cartas que conforman la bara\n",
    "    for i in range(len(tipo)):\n",
    "        for j in range(13):\n",
    "            barajalt.append(tipo[i]+str(j+1))\n",
    "    # Se convierte a tipo de dato conjunto el y se devuelve el resultado\n",
    "    baraja=set(barajalt)\n",
    "    return baraja\n",
    "\n",
    "# Se define función\n",
    "def conjuntos(baraja):\n",
    "    # Importando librerias...\n",
    "    import random\n",
    "    import itertools\n",
    "    # Se crean conjuntos A y B. Se trata de subconjuntos creados en forma aleatorio y con tamaño aleatorio\n",
    "    A=set(random.sample(baraja,random.randint(1,52)))\n",
    "    B=set(random.sample(baraja,random.randint(1,52)))\n",
    "    # Calculando probabilidades por medio de función de probabilidad definida en función de cardinalidad de conjuntos\n",
    "    PA=len(A)/len(b)\n",
    "    PB=len(B)/len(b)\n",
    "    # Creando unión, intersección y diferencia simétrica de subconjuntos A y B\n",
    "    aub=A.union(B)\n",
    "    anb=A.intersection(B)\n",
    "    adb=A.symmetric_difference(B)\n",
    "    # Calculando probabilidades de eventos por medio de cardinalidad de conjuntos\n",
    "    paub=(len(adb)+len(anb))/(len(b))\n",
    "    panb=(len(anb))/(len(b))\n",
    "    # Se determina valor de probabilidad de eventos por medio regla del producto (intersección) y regla de la adición (unión)\n",
    "    paubcheck=PA+PB-panb\n",
    "    panbcheck=PA*PB\n",
    "    # Se imprimen y devuelven resultados\n",
    "    print('Resultados')\n",
    "    print('-----------------------------------------------------------------------------------------')\n",
    "    print('\\n')\n",
    "    print(f'El primer conjunto generado (conjunto A) es: {A}')\n",
    "    print(f'El segundo conjunto generado (conjunto B) es: {B}')\n",
    "    print('-----------------------------------------------------------------------------------------')\n",
    "    print('\\n')\n",
    "    print(f'La unión de ambos conjuntos es: {aub}')\n",
    "    print(f'La intesección de ambos conjuntos es: {anb}')\n",
    "    print('-----------------------------------------------------------------------------------------')\n",
    "    print('\\n')\n",
    "    print('Calculo de probabilidades')\n",
    "    print('Se asume que la selección de cartas para conformar los conjuntos es completamente aleatoria y que todas tienen la misma de ser elegidas')\n",
    "    print('\\n')\n",
    "    print(f'La probabilidad de la intersección de ambos conjuntos es: {panb}')\n",
    "    print(f'La probabilidad de la intersección por medio de la regla del producto es: {panbcheck}')\n",
    "    if (panb==panbcheck):\n",
    "        print('Los eventos son independientes. Se cumple la regla del producto.')\n",
    "    else:\n",
    "        print('Los eventos no son independientes. No se cumple la regla del producto.')\n",
    "    print('\\n')\n",
    "    print(f'La probabilidad de la unión de ambos conjuntos es: {paub}')\n",
    "    print(f'La probabilidad de la unión por medio de la regla de la adición es: {paubcheck}')\n",
    "    if (paub==paubcheck):\n",
    "        print('Los eventos son mutuamente excluyentes. Se cumple la regla de la adición.')\n",
    "    else:\n",
    "        print('Los eventos no son mutuamente excluyentes. No se cumple la regla de la adición.')\n",
    "    "
   ]
  },
  {
   "cell_type": "code",
   "execution_count": 17,
   "metadata": {},
   "outputs": [
    {
     "name": "stdout",
     "output_type": "stream",
     "text": [
      "Resultados\n",
      "-----------------------------------------------------------------------------------------\n",
      "\n",
      "\n",
      "El primer conjunto generado (conjunto A) es: {'C5', 'E9', 'P1', 'C4', 'E5', 'E11', 'E2', 'C10', 'P2', 'T2', 'P3', 'E12', 'T4', 'T12', 'C2', 'C8', 'C6', 'P8', 'T3', 'C12', 'T11', 'T13', 'E1', 'P4', 'E4', 'E13', 'E10', 'P11', 'T10', 'T9', 'P5', 'T6', 'P6', 'E6', 'C7', 'T1', 'P10', 'P13', 'E8', 'E7', 'C9', 'P9', 'C11'}\n",
      "El segundo conjunto generado (conjunto B) es: {'P8', 'P11', 'C12', 'P9', 'C7', 'C4', 'T12', 'E5', 'E11', 'E3', 'C2', 'C10', 'E2', 'P7', 'E4'}\n",
      "-----------------------------------------------------------------------------------------\n",
      "\n",
      "\n",
      "La unión de ambos conjuntos es: {'C5', 'E9', 'P1', 'C4', 'E5', 'E11', 'E3', 'E2', 'C10', 'P2', 'T2', 'P3', 'E12', 'T4', 'T12', 'C2', 'C8', 'C6', 'P8', 'T3', 'C12', 'T11', 'T13', 'E1', 'P4', 'P7', 'E4', 'E13', 'E10', 'P11', 'T10', 'T9', 'P5', 'T6', 'P6', 'E6', 'C7', 'T1', 'P10', 'P13', 'E8', 'E7', 'C9', 'P9', 'C11'}\n",
      "La intesección de ambos conjuntos es: {'P8', 'P11', 'C12', 'C7', 'C4', 'T12', 'E5', 'E11', 'C10', 'C2', 'E2', 'P9', 'E4'}\n",
      "-----------------------------------------------------------------------------------------\n",
      "\n",
      "\n",
      "Calculo de probabilidades\n",
      "Se asume que la selección de cartas para conformar los conjuntos es completamente aleatoria y que todas tienen la misma de ser elegidas\n",
      "\n",
      "\n",
      "La probabilidad de la intersección de ambos conjuntos es: 0.25\n",
      "La probabilidad de la intersección por medio de la regla del producto es: 0.23853550295857984\n",
      "Los eventos no son independientes. No se cumple la regla del producto.\n",
      "\n",
      "\n",
      "La probabilidad de la unión de ambos conjuntos es: 0.8653846153846154\n",
      "La probabilidad de la unión por medio de la regla de la adición es: 0.8653846153846154\n",
      "Los eventos son mutuamente excluyentes. Se cumple la regla de la adición.\n"
     ]
    },
    {
     "name": "stderr",
     "output_type": "stream",
     "text": [
      "/var/folders/dj/g5f21f6n6p7b15c1f6lgpk6c0000gn/T/ipykernel_60244/2123616285.py:21: DeprecationWarning: Sampling from a set deprecated\n",
      "since Python 3.9 and will be removed in a subsequent version.\n",
      "  A=set(random.sample(baraja,random.randint(1,52)))\n",
      "/var/folders/dj/g5f21f6n6p7b15c1f6lgpk6c0000gn/T/ipykernel_60244/2123616285.py:22: DeprecationWarning: Sampling from a set deprecated\n",
      "since Python 3.9 and will be removed in a subsequent version.\n",
      "  B=set(random.sample(baraja,random.randint(1,52)))\n"
     ]
    }
   ],
   "source": [
    "# Prueba de las funciones\n",
    "b=baraja()\n",
    "conjuntos(b)"
   ]
  }
 ],
 "metadata": {
  "kernelspec": {
   "display_name": "base",
   "language": "python",
   "name": "python3"
  },
  "language_info": {
   "codemirror_mode": {
    "name": "ipython",
    "version": 3
   },
   "file_extension": ".py",
   "mimetype": "text/x-python",
   "name": "python",
   "nbconvert_exporter": "python",
   "pygments_lexer": "ipython3",
   "version": "3.9.13"
  },
  "orig_nbformat": 4
 },
 "nbformat": 4,
 "nbformat_minor": 2
}
