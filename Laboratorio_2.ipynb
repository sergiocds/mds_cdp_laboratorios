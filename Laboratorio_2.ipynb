{
 "cells": [
  {
   "attachments": {},
   "cell_type": "markdown",
   "metadata": {},
   "source": [
    "# Laboratorio 2\n",
    "---"
   ]
  },
  {
   "attachments": {},
   "cell_type": "markdown",
   "metadata": {},
   "source": [
    "### 1 \n",
    "Haga un programa en Python que reciba de parámetro un número de segundos y que despliegue en pantalla, las horas, minutos y segundos que representan. Por ejemplo:\n",
    "- Si el número de segundos recibidos fuera: 2743 entonces su programa debería desplegar: Horas: 0, Minutos: 45 , Segundos: 43\n",
    "- Si el número de segundos recibidos fuera 5871: Horas: 1, Minutos: 37 , Segundos: 51\n",
    "\n",
    "Recuerde manejar excepciones y errores que considere necesarios."
   ]
  },
  {
   "cell_type": "code",
   "execution_count": 1,
   "metadata": {},
   "outputs": [],
   "source": [
    "# Se define la función\n",
    "def HMS(segundos):\n",
    "    if type(segundos)==int and (segundos>=0):\n",
    "        print(f'Horas: {(segundos//3600)}, Minutos: {((segundos%3600)//60)}, Segundos: {((segundos%3600)%60)}')\n",
    "    else:\n",
    "        print('Error: Debe ingresar un número entero positivo.')"
   ]
  },
  {
   "cell_type": "code",
   "execution_count": 2,
   "metadata": {},
   "outputs": [
    {
     "name": "stdout",
     "output_type": "stream",
     "text": [
      "Horas: 0, Minutos: 0, Segundos: 5\n"
     ]
    }
   ],
   "source": [
    "# Se prueba la función\n",
    "HMS(5)"
   ]
  },
  {
   "attachments": {},
   "cell_type": "markdown",
   "metadata": {},
   "source": [
    "### 2 \n",
    "Haga una función en Python que dado un número entre 1 y 20. Y un carácter cualquiera despliegue cuatro patrones triangulares.\n",
    "Por ejemplo si el usuario ingresara el número 4 y el símbolo * el programa deberá desplegar lo siguiente:"
   ]
  },
  {
   "cell_type": "code",
   "execution_count": 3,
   "metadata": {},
   "outputs": [],
   "source": [
    "def triangulos(base,caracter):\n",
    "    if (base<1) or (base>20):\n",
    "        print('Debe ingresar un número entero entre 1 y 20')\n",
    "    else:\n",
    "        for i in range(base):\n",
    "            t1=caracter*(i+1)\n",
    "            e1=' '*(base+4)\n",
    "            t2=caracter*(base-i)\n",
    "            e2=' '*5\n",
    "            print(t1+e1+t2+e2+t2+e1+t1)"
   ]
  },
  {
   "cell_type": "code",
   "execution_count": 5,
   "metadata": {},
   "outputs": [
    {
     "name": "stdout",
     "output_type": "stream",
     "text": [
      "*        ****     ****        *\n",
      "**        ***     ***        **\n",
      "***        **     **        ***\n",
      "****        *     *        ****\n"
     ]
    }
   ],
   "source": [
    "triangulos(4,'*')"
   ]
  },
  {
   "attachments": {},
   "cell_type": "markdown",
   "metadata": {},
   "source": [
    "### 3\n",
    "Haga un programa en Python que la fecha de nacimiento de una persona (puede ingresar por separado cada valor, es decir pedir primero día, luego mes y luego año), despliegue la edad de la persona en años, meses y días. Su resultado puede ser aproximado."
   ]
  },
  {
   "cell_type": "code",
   "execution_count": 55,
   "metadata": {},
   "outputs": [
    {
     "name": "stdout",
     "output_type": "stream",
     "text": [
      "Error: La fecha ingresada debe ser menor a la fecha actual!\n"
     ]
    }
   ],
   "source": [
    "# Importando libreria para uso de funciones de fecha\n",
    "#import datetime\n",
    "from datetime import date\n",
    "\n",
    "# Obteniendo del usuario su fecha de nacimiento\n",
    "try:\n",
    "    nacimiento=date.fromisoformat(input('Ingrese su fecha de nacimiento en formato AAAA-MM-DD:'))\n",
    "    hoy=date.today()\n",
    "    if (nacimiento<=hoy):\n",
    "        if ((hoy.month,hoy.day)>=(nacimiento.month,nacimiento.day)):\n",
    "            anios=hoy.year-nacimiento.year\n",
    "            if (hoy.day>=nacimiento.day):\n",
    "                meses=hoy.month-nacimiento.month\n",
    "                dias=hoy.day-nacimiento.day\n",
    "            else:\n",
    "                meses=hoy.month-nacimiento.month-1\n",
    "                if ((hoy.month-1) in (1,3,5,7,8,10,12)):\n",
    "                    dias=(31-nacimiento.day)+hoy.day\n",
    "                elif ((hoy.month-1) in (4,6,9,11)):\n",
    "                    dias=(30-nacimiento.day)+hoy.day\n",
    "                else:\n",
    "                    dias=(28-nacimiento.day)+hoy.day\n",
    "        else:\n",
    "            anios=hoy.year-nacimiento.year-1\n",
    "            if (hoy.day>=nacimiento.day):\n",
    "                meses=12+(hoy.month-nacimiento.month)\n",
    "                dias=hoy.day-nacimiento.day\n",
    "            else:\n",
    "                meses=12+(hoy.month-nacimiento.month)-1\n",
    "                if ((hoy.month-1) in (1,3,5,7,8,10,12)):\n",
    "                    dias=(31-nacimiento.day)+hoy.day\n",
    "                elif ((hoy.month-1) in (4,6,9,11)):\n",
    "                    dias=(30-nacimiento.day)+hoy.day\n",
    "                else:\n",
    "                    dias=(28-nacimiento.day)+hoy.day\n",
    "        print(f'Su edad es {anios} años, {meses} meses y {dias} días.')\n",
    "    else:\n",
    "        print('Error: La fecha ingresada debe ser menor a la fecha actual!')\n",
    "\n",
    "# En caso de que formato falle\n",
    "except:\n",
    "    print('Formato de fecha incorrecto, debe ser AAAA-MM-DD. Intente de nuevo.')"
   ]
  },
  {
   "cell_type": "code",
   "execution_count": 59,
   "metadata": {},
   "outputs": [
    {
     "name": "stdout",
     "output_type": "stream",
     "text": [
      "Su edad es 33 años, 2 meses y 8 días.\n"
     ]
    }
   ],
   "source": [
    "from datetime import date\n",
    "hoy=date.fromisoformat('2023-09-01')\n",
    "nacimiento=date.fromisoformat('1990-06-24')\n",
    "if (nacimiento<hoy):\n",
    "        if ((hoy.month,hoy.day)>=(nacimiento.month,nacimiento.day)):\n",
    "            anios=hoy.year-nacimiento.year\n",
    "            if (hoy.day>=nacimiento.day):\n",
    "                meses=hoy.month-nacimiento.month\n",
    "                dias=hoy.day-nacimiento.day\n",
    "            else:\n",
    "                meses=hoy.month-nacimiento.month-1\n",
    "                if ((hoy.month-1) in (1,3,5,7,8,10,12)):\n",
    "                    dias=(31-nacimiento.day)+hoy.day\n",
    "                elif ((hoy.month-1) in (4,6,9,11)):\n",
    "                    dias=(30-nacimiento.day)+hoy.day\n",
    "                else:\n",
    "                    dias=(28-nacimiento.day)+hoy.day\n",
    "        else:\n",
    "            anios=hoy.year-nacimiento.year-1\n",
    "            if (hoy.day>=nacimiento.day):\n",
    "                meses=12+(hoy.month-nacimiento.month)\n",
    "                dias=hoy.day-nacimiento.day\n",
    "            else:\n",
    "                meses=12+(hoy.month-nacimiento.month)-1\n",
    "                if ((hoy.month-1) in (1,3,5,7,8,10,12)):\n",
    "                    dias=(31-nacimiento.day)+hoy.day\n",
    "                elif ((hoy.month-1) in (4,6,9,11)):\n",
    "                    dias=(30-nacimiento.day)+hoy.day\n",
    "                else:\n",
    "                    dias=(28-nacimiento.day)+hoy.day\n",
    "print(f'Su edad es {anios} años, {meses} meses y {dias} días.')"
   ]
  },
  {
   "attachments": {},
   "cell_type": "markdown",
   "metadata": {},
   "source": [
    "### 4\n",
    "Escriba una función en Python que dada una tupla de elementos (números o letras) esta se convierta a un string. Tomar nota del siguiente ejemplo:\n",
    "Si la entrada fuera: (10, 20, 40, 5, 70) La salida debería ser: 102040570"
   ]
  },
  {
   "cell_type": "code",
   "execution_count": 76,
   "metadata": {},
   "outputs": [],
   "source": [
    "def tuplatexto(tupla):\n",
    "    texto=''\n",
    "    return texto.join([str(x) for x in tupla])"
   ]
  },
  {
   "cell_type": "code",
   "execution_count": 77,
   "metadata": {},
   "outputs": [
    {
     "data": {
      "text/plain": [
       "'Python-2023'"
      ]
     },
     "execution_count": 77,
     "metadata": {},
     "output_type": "execute_result"
    }
   ],
   "source": [
    "tupla=('P','y','t','h','o','n','-',2,0,2,3)\n",
    "tuplatexto(tupla)"
   ]
  },
  {
   "attachments": {},
   "cell_type": "markdown",
   "metadata": {},
   "source": [
    "### 5\n",
    "Cree un programa en Python que dada una lista de tuplas, elimine las tuplas que están vacías. Tomar nota del siguiente ejemplo:\n",
    "- Si la lista fuera: [(), (), (’X’,), (’a’, ’b’), (’a’, ’b’, ’c’), (’d’)]\n",
    "- El resultado deber ́ıa ser: [(’X’), (’a’, ’b’), (’a’, ’b’, ’c’), ’d’]"
   ]
  },
  {
   "cell_type": "code",
   "execution_count": 115,
   "metadata": {},
   "outputs": [
    {
     "name": "stdout",
     "output_type": "stream",
     "text": [
      "[('c',), ('a', 'b'), ('a', 'b', 'c'), 'd']\n"
     ]
    }
   ],
   "source": [
    "lista=[('c',), (), (), ('a', 'b'), ('a', 'b', 'c'), ('d')]\n",
    "n=len(lista)-1\n",
    "i=0\n",
    "while i<=n:\n",
    "    if (len(lista[i]))==0:\n",
    "        del lista[i]\n",
    "        n-=1\n",
    "        i-=1\n",
    "    i+=1\n",
    "print(lista)"
   ]
  },
  {
   "attachments": {},
   "cell_type": "markdown",
   "metadata": {},
   "source": [
    "### 6\n",
    "Cree una función en Python que dada una tupla de tuplas con números, produzca una tupla\n",
    "con el promedio de cada tupla individual. Tomar nota del siguiente ejemplo:\n",
    "- Si la tupla de entrada fuera: ((10, 10, 10, 12), (30, 45, 56, 45), (81, 80, 39, 32))\n",
    "- El resultado debería ser: (10.5, 44, 58)"
   ]
  },
  {
   "cell_type": "code",
   "execution_count": 124,
   "metadata": {},
   "outputs": [],
   "source": [
    "def avgtupla(tupla):\n",
    "    avgs=[(sum(x)/len(x)) for x in tupla]\n",
    "    return avgs"
   ]
  },
  {
   "cell_type": "code",
   "execution_count": 125,
   "metadata": {},
   "outputs": [
    {
     "data": {
      "text/plain": [
       "[10.5, 44.0, 58.0]"
      ]
     },
     "execution_count": 125,
     "metadata": {},
     "output_type": "execute_result"
    }
   ],
   "source": [
    "tupla=((10, 10, 10, 12), (30, 45, 56, 45), (81, 80, 39, 32))\n",
    "avgtupla(tupla)"
   ]
  },
  {
   "attachments": {},
   "cell_type": "markdown",
   "metadata": {},
   "source": [
    "### 7\n",
    "Escribir un programa que gestione las facturas pendientes de cobro de una empresa. Las facturas se almacenarán en un diccionario donde la llave de cada factura será el número de factura (debe utilizar un numero de 4 dígitos) y el valor el coste de la factura. El programa debe preguntar al usuario si quiere añadir una nueva factura, pagar una existente o terminar. Si desea añadir una nueva factura se preguntará por el número de factura y su coste y se añadirá al diccionario, para confirmar que la factura se ingreso correctamente el programa debe desplegar el diccionario completo. Si se desea pagar una factura se preguntará por el número de factura y se eliminará del diccionario. Después de cada operación el programa debe mostrar en pantalla la cantidad cobrada hasta el momento y la cantidad pendiente de cobro. Puede utilizar otras estructuras de datos como apoyo si lo considera necesario."
   ]
  },
  {
   "cell_type": "code",
   "execution_count": 4,
   "metadata": {},
   "outputs": [
    {
     "name": "stdout",
     "output_type": "stream",
     "text": [
      "Control de Facturas\n",
      "---------------------------------------------------------------------------\n",
      "Ingrese el número de la opcion deseada:\n",
      "1. Añadir una nueva factura\n",
      "2. Pagar una factura existente\n",
      "3. Salir\n",
      "\n",
      "\n",
      "Facturas actualizadas:\n",
      "{1234: 50.0}\n",
      "Monto total pendiente de pago 50.0\n",
      "Monto total pagado: Q. 0\n",
      "---------------------------------------------------------------------------\n",
      "Facturas actualizadas:\n",
      "{1234: 50.0, 2345: 40.0}\n",
      "Monto total pendiente de pago 90.0\n",
      "Monto total pagado: Q. 0\n",
      "---------------------------------------------------------------------------\n",
      "Factura número 2345 por un monto de Q. 40.0 pagada.\n",
      "Monto total pendiente de pago Q. 50.0\n",
      "Monto total pagado: Q. 40.0\n",
      "---------------------------------------------------------------------------\n",
      "Facturas actualizadas:\n",
      "{1234: 50.0}\n",
      "Facturas pagadas:\n",
      "{2345: 40.0}\n",
      "Monto total pendiente de pago 50.0\n",
      "Monto total pagado: Q. 40.0\n",
      "---------------------------------------------------------------------------\n"
     ]
    }
   ],
   "source": [
    "facturas={}\n",
    "pagado={}\n",
    "opcion=0\n",
    "print('Control de Facturas')\n",
    "print('---------------------------------------------------------------------------')\n",
    "print('Ingrese el número de la opcion deseada:')\n",
    "print('1. Añadir una nueva factura')\n",
    "print('2. Pagar una factura existente')\n",
    "print('3. Salir')\n",
    "print('\\n')\n",
    "while opcion!=3:\n",
    "    try:\n",
    "        opcion=int(input('Ingrese la opción deseada:'))\n",
    "        if (opcion==1):\n",
    "            try:\n",
    "                nofact=int(input('Ingrese el número de factura'))\n",
    "                if (len(str(nofact)))==4:\n",
    "                    if nofact in facturas:\n",
    "                        print('Error 1-3: Número de factura ya existe. Ingrese un número de factura diferente.')\n",
    "                        print('---------------------------------------------------------------------------')\n",
    "                    else:\n",
    "                        try:\n",
    "                            monto=float(input('Ingrese el monto de la factura'))\n",
    "                            if (monto>0):\n",
    "                                facturas[nofact]=monto\n",
    "                                print('Facturas actualizadas:')\n",
    "                                print(facturas)\n",
    "                                print(f'Monto total pendiente de pago {sum(facturas.values())}')\n",
    "                                print(f'Monto total pagado: Q. {sum(pagado.values())}')\n",
    "                                print('---------------------------------------------------------------------------')\n",
    "                            else:\n",
    "                                print('Error 1-5: Ingrese un monto válido de factura.')\n",
    "                                print('---------------------------------------------------------------------------')\n",
    "                        except:\n",
    "                            print('Error 1-4: Ingrese un monto válido de factura.')\n",
    "                            print('---------------------------------------------------------------------------')\n",
    "                else:\n",
    "                    print('Error 1-2: Ingrese un número válido de factura.')\n",
    "                    print('---------------------------------------------------------------------------')\n",
    "            except:\n",
    "                print('Error 1-1: Ingrese un número válido de factura.')\n",
    "                print('---------------------------------------------------------------------------')\n",
    "        elif (opcion==2):\n",
    "            try:\n",
    "                nofact=int(input('Ingrese el número de factura:'))\n",
    "                if (len(str(nofact)))==4:\n",
    "                    if nofact in facturas:\n",
    "                        try:\n",
    "                            confirmacion=str(input(f'Desea pagar la fáctura {nofact} con un monto de Q. {facturas[nofact]}? S/N'))\n",
    "                            if (confirmacion=='S') or (confirmacion=='s'):\n",
    "                                pagado[nofact]=facturas[nofact]\n",
    "                                facturas.pop(nofact)\n",
    "                                print(f'Factura número {nofact} por un monto de Q. {pagado[nofact]} pagada.')\n",
    "                                print(f'Monto total pendiente de pago Q. {sum(facturas.values())}')\n",
    "                                print(f'Monto total pagado: Q. {sum(pagado.values())}')\n",
    "                                print('---------------------------------------------------------------------------')\n",
    "                            else:\n",
    "                                print('Ninguna factura pagada.')\n",
    "                                print('---------------------------------------------------------------------------')\n",
    "                        except:\n",
    "                            print('Error 2-4: Ingrese un monto válido de factura.')\n",
    "                            print('---------------------------------------------------------------------------')\n",
    "                    else:\n",
    "                        print('Error 2-3: Número de factura no existe. Ingrese un número de factura válido.')\n",
    "                        print('---------------------------------------------------------------------------')\n",
    "                else:\n",
    "                    print('Error 2-2: Ingrese un número válido de factura.')\n",
    "                    print('---------------------------------------------------------------------------')\n",
    "            except:\n",
    "                print('Error 2-1: Ingrese un número válido de factura.')\n",
    "                print('---------------------------------------------------------------------------')\n",
    "        elif (opcion==3):\n",
    "            print('Facturas actualizadas:')\n",
    "            print(facturas)\n",
    "            print('Facturas pagadas:')\n",
    "            print(pagado)\n",
    "            print(f'Monto total pendiente de pago {sum(facturas.values())}')\n",
    "            print(f'Monto total pagado: Q. {sum(pagado.values())}')\n",
    "            print('---------------------------------------------------------------------------')\n",
    "        else:\n",
    "            print('Error 0-2: Debe intresar una opción válida.')\n",
    "            print('---------------------------------------------------------------------------')\n",
    "    except:\n",
    "        print('Error 0-1: Debe intresar una opción válida.')\n",
    "        print('---------------------------------------------------------------------------')"
   ]
  },
  {
   "attachments": {},
   "cell_type": "markdown",
   "metadata": {},
   "source": [
    "### 8\n",
    "Haga una función en Python, que cree un set con todas las cartas de una baraja de Pocker utilizando el siguiente formato: Tipo-Numero. Utilice las letras T para tréboles, C para corazones, P para picas y E para espadas. Para los números utilice la numeración del 1 al 13. Por ejemplo E13 - sería Rey de Espadas, P01 sería As de Picas, T05 sería cinco de Tréboles.\n",
    "\n",
    "Posteriormente cree una función que dado el conjunto anterior cree dos sets nuevos de cartas, cada conjunto debe tener una cantidad variable de elementos, puede utilizar números aleatorios enteros para definir la longitud de los conjuntos.\n",
    "\n",
    "Adicionalmente, debería calcular la probabilidad de la intersección de ambos conjuntos y demuestre si son eventos independientes con la regla del producto.\n",
    "\n",
    "Para concluir, calcule probabilidad de la unión de ambos conjuntos y demuestre que se cumple la regla de la adición."
   ]
  },
  {
   "cell_type": "code",
   "execution_count": 162,
   "metadata": {},
   "outputs": [],
   "source": [
    "def baraja():\n",
    "    tipo=['T','C','P','E']\n",
    "    barajalt=[]\n",
    "    for i in range(len(tipo)):\n",
    "        for j in range(13):\n",
    "            barajalt.append(tipo[i]+str(j+1))\n",
    "    baraja=set(barajalt)\n",
    "    return baraja\n",
    "\n",
    "def conjuntos(baraja):\n",
    "    import random\n",
    "    import itertools\n",
    "    A=set(itertools.islice(baraja,random.randint(1,52)))\n",
    "    B=set(itertools.islice(baraja,random.randint(1,52)))\n",
    "    return A,B\n",
    "    "
   ]
  },
  {
   "cell_type": "code",
   "execution_count": 169,
   "metadata": {},
   "outputs": [
    {
     "name": "stdout",
     "output_type": "stream",
     "text": [
      "33\n",
      "28\n"
     ]
    }
   ],
   "source": [
    "X,Y=conjuntos(b)\n",
    "print(len(X))\n",
    "print(len(Y))\n"
   ]
  },
  {
   "cell_type": "code",
   "execution_count": 173,
   "metadata": {},
   "outputs": [
    {
     "data": {
      "text/plain": [
       "{'C10',\n",
       " 'C11',\n",
       " 'C13',\n",
       " 'C2',\n",
       " 'C3',\n",
       " 'C4',\n",
       " 'C5',\n",
       " 'C8',\n",
       " 'E10',\n",
       " 'E12',\n",
       " 'E2',\n",
       " 'E3',\n",
       " 'E4',\n",
       " 'E5',\n",
       " 'E6',\n",
       " 'E7',\n",
       " 'E8',\n",
       " 'P1',\n",
       " 'P10',\n",
       " 'P11',\n",
       " 'P12',\n",
       " 'P5',\n",
       " 'P6',\n",
       " 'P7',\n",
       " 'P8',\n",
       " 'T1',\n",
       " 'T10',\n",
       " 'T4',\n",
       " 'T5',\n",
       " 'T6',\n",
       " 'T7',\n",
       " 'T8',\n",
       " 'T9'}"
      ]
     },
     "execution_count": 173,
     "metadata": {},
     "output_type": "execute_result"
    }
   ],
   "source": [
    "intersecto=X.intersection(Y)\n",
    "intersecto\n",
    "uni=X.union(Y)\n",
    "uni"
   ]
  }
 ],
 "metadata": {
  "kernelspec": {
   "display_name": "base",
   "language": "python",
   "name": "python3"
  },
  "language_info": {
   "codemirror_mode": {
    "name": "ipython",
    "version": 3
   },
   "file_extension": ".py",
   "mimetype": "text/x-python",
   "name": "python",
   "nbconvert_exporter": "python",
   "pygments_lexer": "ipython3",
   "version": "3.9.13"
  },
  "orig_nbformat": 4
 },
 "nbformat": 4,
 "nbformat_minor": 2
}
